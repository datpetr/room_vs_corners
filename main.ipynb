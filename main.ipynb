{
 "cells": [
  {
   "cell_type": "code",
   "id": "initial_id",
   "metadata": {
    "collapsed": true,
    "ExecuteTime": {
     "end_time": "2024-09-21T12:50:26.814385Z",
     "start_time": "2024-09-21T12:50:26.473401Z"
    }
   },
   "source": "import pandas as pd",
   "outputs": [],
   "execution_count": 1
  },
  {
   "metadata": {},
   "cell_type": "markdown",
   "source": "inspect the data",
   "id": "433234d6aec2af04"
  },
  {
   "metadata": {
    "ExecuteTime": {
     "end_time": "2024-09-21T12:50:26.852495Z",
     "start_time": "2024-09-21T12:50:26.816439Z"
    }
   },
   "cell_type": "code",
   "source": [
    "df = pd.read_json('data/deviations.json')\n",
    "df.head()"
   ],
   "id": "6ab29ba9fb4ba835",
   "outputs": [
    {
     "data": {
      "text/plain": [
       "           name  gt_corners  rb_corners       mean        max       min  \\\n",
       "0  Schlafzimmer           4           4   3.956313   8.562939  0.274574   \n",
       "1         Küche           4           4  23.019122  52.605437  0.724299   \n",
       "2      Bathroom           4           4   1.013833   1.950322  0.301673   \n",
       "3  Lounge/Diner           8           8   3.832620  18.236935  0.173307   \n",
       "4    Essbereich           4           4   8.017758  15.642853  0.762948   \n",
       "\n",
       "   floor_mean  floor_max  floor_min  ceiling_mean  ceiling_max  ceiling_min  \n",
       "0    3.987864   8.562939   0.274574      3.924762     8.501885     0.331494  \n",
       "1    1.253103   1.897612   0.724299     44.785141    52.605437    36.880814  \n",
       "2    0.659138   1.318714   0.301673      1.368528     1.950322     0.878106  \n",
       "3    3.600083  15.041431   0.173307      4.065157    18.236935     0.253457  \n",
       "4    7.819446  15.399635   0.762948      8.216069    15.642853     0.909029  "
      ],
      "text/html": [
       "<div>\n",
       "<style scoped>\n",
       "    .dataframe tbody tr th:only-of-type {\n",
       "        vertical-align: middle;\n",
       "    }\n",
       "\n",
       "    .dataframe tbody tr th {\n",
       "        vertical-align: top;\n",
       "    }\n",
       "\n",
       "    .dataframe thead th {\n",
       "        text-align: right;\n",
       "    }\n",
       "</style>\n",
       "<table border=\"1\" class=\"dataframe\">\n",
       "  <thead>\n",
       "    <tr style=\"text-align: right;\">\n",
       "      <th></th>\n",
       "      <th>name</th>\n",
       "      <th>gt_corners</th>\n",
       "      <th>rb_corners</th>\n",
       "      <th>mean</th>\n",
       "      <th>max</th>\n",
       "      <th>min</th>\n",
       "      <th>floor_mean</th>\n",
       "      <th>floor_max</th>\n",
       "      <th>floor_min</th>\n",
       "      <th>ceiling_mean</th>\n",
       "      <th>ceiling_max</th>\n",
       "      <th>ceiling_min</th>\n",
       "    </tr>\n",
       "  </thead>\n",
       "  <tbody>\n",
       "    <tr>\n",
       "      <th>0</th>\n",
       "      <td>Schlafzimmer</td>\n",
       "      <td>4</td>\n",
       "      <td>4</td>\n",
       "      <td>3.956313</td>\n",
       "      <td>8.562939</td>\n",
       "      <td>0.274574</td>\n",
       "      <td>3.987864</td>\n",
       "      <td>8.562939</td>\n",
       "      <td>0.274574</td>\n",
       "      <td>3.924762</td>\n",
       "      <td>8.501885</td>\n",
       "      <td>0.331494</td>\n",
       "    </tr>\n",
       "    <tr>\n",
       "      <th>1</th>\n",
       "      <td>Küche</td>\n",
       "      <td>4</td>\n",
       "      <td>4</td>\n",
       "      <td>23.019122</td>\n",
       "      <td>52.605437</td>\n",
       "      <td>0.724299</td>\n",
       "      <td>1.253103</td>\n",
       "      <td>1.897612</td>\n",
       "      <td>0.724299</td>\n",
       "      <td>44.785141</td>\n",
       "      <td>52.605437</td>\n",
       "      <td>36.880814</td>\n",
       "    </tr>\n",
       "    <tr>\n",
       "      <th>2</th>\n",
       "      <td>Bathroom</td>\n",
       "      <td>4</td>\n",
       "      <td>4</td>\n",
       "      <td>1.013833</td>\n",
       "      <td>1.950322</td>\n",
       "      <td>0.301673</td>\n",
       "      <td>0.659138</td>\n",
       "      <td>1.318714</td>\n",
       "      <td>0.301673</td>\n",
       "      <td>1.368528</td>\n",
       "      <td>1.950322</td>\n",
       "      <td>0.878106</td>\n",
       "    </tr>\n",
       "    <tr>\n",
       "      <th>3</th>\n",
       "      <td>Lounge/Diner</td>\n",
       "      <td>8</td>\n",
       "      <td>8</td>\n",
       "      <td>3.832620</td>\n",
       "      <td>18.236935</td>\n",
       "      <td>0.173307</td>\n",
       "      <td>3.600083</td>\n",
       "      <td>15.041431</td>\n",
       "      <td>0.173307</td>\n",
       "      <td>4.065157</td>\n",
       "      <td>18.236935</td>\n",
       "      <td>0.253457</td>\n",
       "    </tr>\n",
       "    <tr>\n",
       "      <th>4</th>\n",
       "      <td>Essbereich</td>\n",
       "      <td>4</td>\n",
       "      <td>4</td>\n",
       "      <td>8.017758</td>\n",
       "      <td>15.642853</td>\n",
       "      <td>0.762948</td>\n",
       "      <td>7.819446</td>\n",
       "      <td>15.399635</td>\n",
       "      <td>0.762948</td>\n",
       "      <td>8.216069</td>\n",
       "      <td>15.642853</td>\n",
       "      <td>0.909029</td>\n",
       "    </tr>\n",
       "  </tbody>\n",
       "</table>\n",
       "</div>"
      ]
     },
     "execution_count": 2,
     "metadata": {},
     "output_type": "execute_result"
    }
   ],
   "execution_count": 2
  },
  {
   "metadata": {},
   "cell_type": "markdown",
   "source": "import the plot generator code",
   "id": "d8ff059d47d51d80"
  },
  {
   "metadata": {
    "ExecuteTime": {
     "end_time": "2024-09-21T12:50:28.028035Z",
     "start_time": "2024-09-21T12:50:26.853709Z"
    }
   },
   "cell_type": "code",
   "source": "from plot_generator import PlotGenerator",
   "id": "322035fe631b3e21",
   "outputs": [],
   "execution_count": 3
  },
  {
   "metadata": {
    "ExecuteTime": {
     "end_time": "2024-09-21T12:50:28.033319Z",
     "start_time": "2024-09-21T12:50:28.030245Z"
    }
   },
   "cell_type": "code",
   "source": [
    "# Initialize plot generator\n",
    "plot_gen = PlotGenerator()"
   ],
   "id": "87d80f2e908855cd",
   "outputs": [],
   "execution_count": 4
  },
  {
   "metadata": {},
   "cell_type": "markdown",
   "source": "Generate plots from Json",
   "id": "662cc7aae29dd1a8"
  },
  {
   "metadata": {
    "ExecuteTime": {
     "end_time": "2024-09-21T12:50:29.772783Z",
     "start_time": "2024-09-21T12:50:28.034863Z"
    }
   },
   "cell_type": "code",
   "source": "plot_paths = plot_gen.draw_plots('data/deviations.json')",
   "id": "131777a827548a84",
   "outputs": [
    {
     "name": "stderr",
     "output_type": "stream",
     "text": [
      "/home/master/PycharmProjects/room_vs_corners/plot_generator.py:132: FutureWarning: The default of observed=False is deprecated and will be changed to True in a future version of pandas. Pass observed=False to retain current behavior or observed=True to adopt the future default and silence this warning.\n",
      "  df.groupby('corner_category')[['gt_corners', 'rb_corners']].mean().plot(kind='bar')\n",
      "/home/master/PycharmProjects/room_vs_corners/plot_generator.py:140: FutureWarning: The default of observed=False is deprecated and will be changed to True in a future version of pandas. Pass observed=False to retain current behavior or observed=True to adopt the future default and silence this warning.\n",
      "  grouped_df = df.groupby('corner_category').mean()\n"
     ]
    },
    {
     "ename": "TypeError",
     "evalue": "agg function failed [how->mean,dtype->object]",
     "output_type": "error",
     "traceback": [
      "\u001B[0;31m---------------------------------------------------------------------------\u001B[0m",
      "\u001B[0;31mTypeError\u001B[0m                                 Traceback (most recent call last)",
      "File \u001B[0;32m~/.local/lib/python3.12/site-packages/pandas/core/groupby/groupby.py:1942\u001B[0m, in \u001B[0;36mGroupBy._agg_py_fallback\u001B[0;34m(self, how, values, ndim, alt)\u001B[0m\n\u001B[1;32m   1941\u001B[0m \u001B[38;5;28;01mtry\u001B[39;00m:\n\u001B[0;32m-> 1942\u001B[0m     res_values \u001B[38;5;241m=\u001B[39m \u001B[38;5;28;43mself\u001B[39;49m\u001B[38;5;241;43m.\u001B[39;49m\u001B[43m_grouper\u001B[49m\u001B[38;5;241;43m.\u001B[39;49m\u001B[43magg_series\u001B[49m\u001B[43m(\u001B[49m\u001B[43mser\u001B[49m\u001B[43m,\u001B[49m\u001B[43m \u001B[49m\u001B[43malt\u001B[49m\u001B[43m,\u001B[49m\u001B[43m \u001B[49m\u001B[43mpreserve_dtype\u001B[49m\u001B[38;5;241;43m=\u001B[39;49m\u001B[38;5;28;43;01mTrue\u001B[39;49;00m\u001B[43m)\u001B[49m\n\u001B[1;32m   1943\u001B[0m \u001B[38;5;28;01mexcept\u001B[39;00m \u001B[38;5;167;01mException\u001B[39;00m \u001B[38;5;28;01mas\u001B[39;00m err:\n",
      "File \u001B[0;32m~/.local/lib/python3.12/site-packages/pandas/core/groupby/ops.py:864\u001B[0m, in \u001B[0;36mBaseGrouper.agg_series\u001B[0;34m(self, obj, func, preserve_dtype)\u001B[0m\n\u001B[1;32m    862\u001B[0m     preserve_dtype \u001B[38;5;241m=\u001B[39m \u001B[38;5;28;01mTrue\u001B[39;00m\n\u001B[0;32m--> 864\u001B[0m result \u001B[38;5;241m=\u001B[39m \u001B[38;5;28;43mself\u001B[39;49m\u001B[38;5;241;43m.\u001B[39;49m\u001B[43m_aggregate_series_pure_python\u001B[49m\u001B[43m(\u001B[49m\u001B[43mobj\u001B[49m\u001B[43m,\u001B[49m\u001B[43m \u001B[49m\u001B[43mfunc\u001B[49m\u001B[43m)\u001B[49m\n\u001B[1;32m    866\u001B[0m npvalues \u001B[38;5;241m=\u001B[39m lib\u001B[38;5;241m.\u001B[39mmaybe_convert_objects(result, try_float\u001B[38;5;241m=\u001B[39m\u001B[38;5;28;01mFalse\u001B[39;00m)\n",
      "File \u001B[0;32m~/.local/lib/python3.12/site-packages/pandas/core/groupby/ops.py:885\u001B[0m, in \u001B[0;36mBaseGrouper._aggregate_series_pure_python\u001B[0;34m(self, obj, func)\u001B[0m\n\u001B[1;32m    884\u001B[0m \u001B[38;5;28;01mfor\u001B[39;00m i, group \u001B[38;5;129;01min\u001B[39;00m \u001B[38;5;28menumerate\u001B[39m(splitter):\n\u001B[0;32m--> 885\u001B[0m     res \u001B[38;5;241m=\u001B[39m \u001B[43mfunc\u001B[49m\u001B[43m(\u001B[49m\u001B[43mgroup\u001B[49m\u001B[43m)\u001B[49m\n\u001B[1;32m    886\u001B[0m     res \u001B[38;5;241m=\u001B[39m extract_result(res)\n",
      "File \u001B[0;32m~/.local/lib/python3.12/site-packages/pandas/core/groupby/groupby.py:2454\u001B[0m, in \u001B[0;36mGroupBy.mean.<locals>.<lambda>\u001B[0;34m(x)\u001B[0m\n\u001B[1;32m   2451\u001B[0m \u001B[38;5;28;01melse\u001B[39;00m:\n\u001B[1;32m   2452\u001B[0m     result \u001B[38;5;241m=\u001B[39m \u001B[38;5;28mself\u001B[39m\u001B[38;5;241m.\u001B[39m_cython_agg_general(\n\u001B[1;32m   2453\u001B[0m         \u001B[38;5;124m\"\u001B[39m\u001B[38;5;124mmean\u001B[39m\u001B[38;5;124m\"\u001B[39m,\n\u001B[0;32m-> 2454\u001B[0m         alt\u001B[38;5;241m=\u001B[39m\u001B[38;5;28;01mlambda\u001B[39;00m x: \u001B[43mSeries\u001B[49m\u001B[43m(\u001B[49m\u001B[43mx\u001B[49m\u001B[43m,\u001B[49m\u001B[43m \u001B[49m\u001B[43mcopy\u001B[49m\u001B[38;5;241;43m=\u001B[39;49m\u001B[38;5;28;43;01mFalse\u001B[39;49;00m\u001B[43m)\u001B[49m\u001B[38;5;241;43m.\u001B[39;49m\u001B[43mmean\u001B[49m\u001B[43m(\u001B[49m\u001B[43mnumeric_only\u001B[49m\u001B[38;5;241;43m=\u001B[39;49m\u001B[43mnumeric_only\u001B[49m\u001B[43m)\u001B[49m,\n\u001B[1;32m   2455\u001B[0m         numeric_only\u001B[38;5;241m=\u001B[39mnumeric_only,\n\u001B[1;32m   2456\u001B[0m     )\n\u001B[1;32m   2457\u001B[0m     \u001B[38;5;28;01mreturn\u001B[39;00m result\u001B[38;5;241m.\u001B[39m__finalize__(\u001B[38;5;28mself\u001B[39m\u001B[38;5;241m.\u001B[39mobj, method\u001B[38;5;241m=\u001B[39m\u001B[38;5;124m\"\u001B[39m\u001B[38;5;124mgroupby\u001B[39m\u001B[38;5;124m\"\u001B[39m)\n",
      "File \u001B[0;32m~/.local/lib/python3.12/site-packages/pandas/core/series.py:6549\u001B[0m, in \u001B[0;36mSeries.mean\u001B[0;34m(self, axis, skipna, numeric_only, **kwargs)\u001B[0m\n\u001B[1;32m   6541\u001B[0m \u001B[38;5;129m@doc\u001B[39m(make_doc(\u001B[38;5;124m\"\u001B[39m\u001B[38;5;124mmean\u001B[39m\u001B[38;5;124m\"\u001B[39m, ndim\u001B[38;5;241m=\u001B[39m\u001B[38;5;241m1\u001B[39m))\n\u001B[1;32m   6542\u001B[0m \u001B[38;5;28;01mdef\u001B[39;00m \u001B[38;5;21mmean\u001B[39m(\n\u001B[1;32m   6543\u001B[0m     \u001B[38;5;28mself\u001B[39m,\n\u001B[0;32m   (...)\u001B[0m\n\u001B[1;32m   6547\u001B[0m     \u001B[38;5;241m*\u001B[39m\u001B[38;5;241m*\u001B[39mkwargs,\n\u001B[1;32m   6548\u001B[0m ):\n\u001B[0;32m-> 6549\u001B[0m     \u001B[38;5;28;01mreturn\u001B[39;00m \u001B[43mNDFrame\u001B[49m\u001B[38;5;241;43m.\u001B[39;49m\u001B[43mmean\u001B[49m\u001B[43m(\u001B[49m\u001B[38;5;28;43mself\u001B[39;49m\u001B[43m,\u001B[49m\u001B[43m \u001B[49m\u001B[43maxis\u001B[49m\u001B[43m,\u001B[49m\u001B[43m \u001B[49m\u001B[43mskipna\u001B[49m\u001B[43m,\u001B[49m\u001B[43m \u001B[49m\u001B[43mnumeric_only\u001B[49m\u001B[43m,\u001B[49m\u001B[43m \u001B[49m\u001B[38;5;241;43m*\u001B[39;49m\u001B[38;5;241;43m*\u001B[39;49m\u001B[43mkwargs\u001B[49m\u001B[43m)\u001B[49m\n",
      "File \u001B[0;32m~/.local/lib/python3.12/site-packages/pandas/core/generic.py:12420\u001B[0m, in \u001B[0;36mNDFrame.mean\u001B[0;34m(self, axis, skipna, numeric_only, **kwargs)\u001B[0m\n\u001B[1;32m  12413\u001B[0m \u001B[38;5;28;01mdef\u001B[39;00m \u001B[38;5;21mmean\u001B[39m(\n\u001B[1;32m  12414\u001B[0m     \u001B[38;5;28mself\u001B[39m,\n\u001B[1;32m  12415\u001B[0m     axis: Axis \u001B[38;5;241m|\u001B[39m \u001B[38;5;28;01mNone\u001B[39;00m \u001B[38;5;241m=\u001B[39m \u001B[38;5;241m0\u001B[39m,\n\u001B[0;32m   (...)\u001B[0m\n\u001B[1;32m  12418\u001B[0m     \u001B[38;5;241m*\u001B[39m\u001B[38;5;241m*\u001B[39mkwargs,\n\u001B[1;32m  12419\u001B[0m ) \u001B[38;5;241m-\u001B[39m\u001B[38;5;241m>\u001B[39m Series \u001B[38;5;241m|\u001B[39m \u001B[38;5;28mfloat\u001B[39m:\n\u001B[0;32m> 12420\u001B[0m     \u001B[38;5;28;01mreturn\u001B[39;00m \u001B[38;5;28;43mself\u001B[39;49m\u001B[38;5;241;43m.\u001B[39;49m\u001B[43m_stat_function\u001B[49m\u001B[43m(\u001B[49m\n\u001B[1;32m  12421\u001B[0m \u001B[43m        \u001B[49m\u001B[38;5;124;43m\"\u001B[39;49m\u001B[38;5;124;43mmean\u001B[39;49m\u001B[38;5;124;43m\"\u001B[39;49m\u001B[43m,\u001B[49m\u001B[43m \u001B[49m\u001B[43mnanops\u001B[49m\u001B[38;5;241;43m.\u001B[39;49m\u001B[43mnanmean\u001B[49m\u001B[43m,\u001B[49m\u001B[43m \u001B[49m\u001B[43maxis\u001B[49m\u001B[43m,\u001B[49m\u001B[43m \u001B[49m\u001B[43mskipna\u001B[49m\u001B[43m,\u001B[49m\u001B[43m \u001B[49m\u001B[43mnumeric_only\u001B[49m\u001B[43m,\u001B[49m\u001B[43m \u001B[49m\u001B[38;5;241;43m*\u001B[39;49m\u001B[38;5;241;43m*\u001B[39;49m\u001B[43mkwargs\u001B[49m\n\u001B[1;32m  12422\u001B[0m \u001B[43m    \u001B[49m\u001B[43m)\u001B[49m\n",
      "File \u001B[0;32m~/.local/lib/python3.12/site-packages/pandas/core/generic.py:12377\u001B[0m, in \u001B[0;36mNDFrame._stat_function\u001B[0;34m(self, name, func, axis, skipna, numeric_only, **kwargs)\u001B[0m\n\u001B[1;32m  12375\u001B[0m validate_bool_kwarg(skipna, \u001B[38;5;124m\"\u001B[39m\u001B[38;5;124mskipna\u001B[39m\u001B[38;5;124m\"\u001B[39m, none_allowed\u001B[38;5;241m=\u001B[39m\u001B[38;5;28;01mFalse\u001B[39;00m)\n\u001B[0;32m> 12377\u001B[0m \u001B[38;5;28;01mreturn\u001B[39;00m \u001B[38;5;28;43mself\u001B[39;49m\u001B[38;5;241;43m.\u001B[39;49m\u001B[43m_reduce\u001B[49m\u001B[43m(\u001B[49m\n\u001B[1;32m  12378\u001B[0m \u001B[43m    \u001B[49m\u001B[43mfunc\u001B[49m\u001B[43m,\u001B[49m\u001B[43m \u001B[49m\u001B[43mname\u001B[49m\u001B[38;5;241;43m=\u001B[39;49m\u001B[43mname\u001B[49m\u001B[43m,\u001B[49m\u001B[43m \u001B[49m\u001B[43maxis\u001B[49m\u001B[38;5;241;43m=\u001B[39;49m\u001B[43maxis\u001B[49m\u001B[43m,\u001B[49m\u001B[43m \u001B[49m\u001B[43mskipna\u001B[49m\u001B[38;5;241;43m=\u001B[39;49m\u001B[43mskipna\u001B[49m\u001B[43m,\u001B[49m\u001B[43m \u001B[49m\u001B[43mnumeric_only\u001B[49m\u001B[38;5;241;43m=\u001B[39;49m\u001B[43mnumeric_only\u001B[49m\n\u001B[1;32m  12379\u001B[0m \u001B[43m\u001B[49m\u001B[43m)\u001B[49m\n",
      "File \u001B[0;32m~/.local/lib/python3.12/site-packages/pandas/core/series.py:6457\u001B[0m, in \u001B[0;36mSeries._reduce\u001B[0;34m(self, op, name, axis, skipna, numeric_only, filter_type, **kwds)\u001B[0m\n\u001B[1;32m   6453\u001B[0m     \u001B[38;5;28;01mraise\u001B[39;00m \u001B[38;5;167;01mTypeError\u001B[39;00m(\n\u001B[1;32m   6454\u001B[0m         \u001B[38;5;124mf\u001B[39m\u001B[38;5;124m\"\u001B[39m\u001B[38;5;124mSeries.\u001B[39m\u001B[38;5;132;01m{\u001B[39;00mname\u001B[38;5;132;01m}\u001B[39;00m\u001B[38;5;124m does not allow \u001B[39m\u001B[38;5;132;01m{\u001B[39;00mkwd_name\u001B[38;5;132;01m}\u001B[39;00m\u001B[38;5;124m=\u001B[39m\u001B[38;5;132;01m{\u001B[39;00mnumeric_only\u001B[38;5;132;01m}\u001B[39;00m\u001B[38;5;124m \u001B[39m\u001B[38;5;124m\"\u001B[39m\n\u001B[1;32m   6455\u001B[0m         \u001B[38;5;124m\"\u001B[39m\u001B[38;5;124mwith non-numeric dtypes.\u001B[39m\u001B[38;5;124m\"\u001B[39m\n\u001B[1;32m   6456\u001B[0m     )\n\u001B[0;32m-> 6457\u001B[0m \u001B[38;5;28;01mreturn\u001B[39;00m \u001B[43mop\u001B[49m\u001B[43m(\u001B[49m\u001B[43mdelegate\u001B[49m\u001B[43m,\u001B[49m\u001B[43m \u001B[49m\u001B[43mskipna\u001B[49m\u001B[38;5;241;43m=\u001B[39;49m\u001B[43mskipna\u001B[49m\u001B[43m,\u001B[49m\u001B[43m \u001B[49m\u001B[38;5;241;43m*\u001B[39;49m\u001B[38;5;241;43m*\u001B[39;49m\u001B[43mkwds\u001B[49m\u001B[43m)\u001B[49m\n",
      "File \u001B[0;32m~/.local/lib/python3.12/site-packages/pandas/core/nanops.py:147\u001B[0m, in \u001B[0;36mbottleneck_switch.__call__.<locals>.f\u001B[0;34m(values, axis, skipna, **kwds)\u001B[0m\n\u001B[1;32m    146\u001B[0m \u001B[38;5;28;01melse\u001B[39;00m:\n\u001B[0;32m--> 147\u001B[0m     result \u001B[38;5;241m=\u001B[39m \u001B[43malt\u001B[49m\u001B[43m(\u001B[49m\u001B[43mvalues\u001B[49m\u001B[43m,\u001B[49m\u001B[43m \u001B[49m\u001B[43maxis\u001B[49m\u001B[38;5;241;43m=\u001B[39;49m\u001B[43maxis\u001B[49m\u001B[43m,\u001B[49m\u001B[43m \u001B[49m\u001B[43mskipna\u001B[49m\u001B[38;5;241;43m=\u001B[39;49m\u001B[43mskipna\u001B[49m\u001B[43m,\u001B[49m\u001B[43m \u001B[49m\u001B[38;5;241;43m*\u001B[39;49m\u001B[38;5;241;43m*\u001B[39;49m\u001B[43mkwds\u001B[49m\u001B[43m)\u001B[49m\n\u001B[1;32m    149\u001B[0m \u001B[38;5;28;01mreturn\u001B[39;00m result\n",
      "File \u001B[0;32m~/.local/lib/python3.12/site-packages/pandas/core/nanops.py:404\u001B[0m, in \u001B[0;36m_datetimelike_compat.<locals>.new_func\u001B[0;34m(values, axis, skipna, mask, **kwargs)\u001B[0m\n\u001B[1;32m    402\u001B[0m     mask \u001B[38;5;241m=\u001B[39m isna(values)\n\u001B[0;32m--> 404\u001B[0m result \u001B[38;5;241m=\u001B[39m \u001B[43mfunc\u001B[49m\u001B[43m(\u001B[49m\u001B[43mvalues\u001B[49m\u001B[43m,\u001B[49m\u001B[43m \u001B[49m\u001B[43maxis\u001B[49m\u001B[38;5;241;43m=\u001B[39;49m\u001B[43maxis\u001B[49m\u001B[43m,\u001B[49m\u001B[43m \u001B[49m\u001B[43mskipna\u001B[49m\u001B[38;5;241;43m=\u001B[39;49m\u001B[43mskipna\u001B[49m\u001B[43m,\u001B[49m\u001B[43m \u001B[49m\u001B[43mmask\u001B[49m\u001B[38;5;241;43m=\u001B[39;49m\u001B[43mmask\u001B[49m\u001B[43m,\u001B[49m\u001B[43m \u001B[49m\u001B[38;5;241;43m*\u001B[39;49m\u001B[38;5;241;43m*\u001B[39;49m\u001B[43mkwargs\u001B[49m\u001B[43m)\u001B[49m\n\u001B[1;32m    406\u001B[0m \u001B[38;5;28;01mif\u001B[39;00m datetimelike:\n",
      "File \u001B[0;32m~/.local/lib/python3.12/site-packages/pandas/core/nanops.py:720\u001B[0m, in \u001B[0;36mnanmean\u001B[0;34m(values, axis, skipna, mask)\u001B[0m\n\u001B[1;32m    719\u001B[0m the_sum \u001B[38;5;241m=\u001B[39m values\u001B[38;5;241m.\u001B[39msum(axis, dtype\u001B[38;5;241m=\u001B[39mdtype_sum)\n\u001B[0;32m--> 720\u001B[0m the_sum \u001B[38;5;241m=\u001B[39m \u001B[43m_ensure_numeric\u001B[49m\u001B[43m(\u001B[49m\u001B[43mthe_sum\u001B[49m\u001B[43m)\u001B[49m\n\u001B[1;32m    722\u001B[0m \u001B[38;5;28;01mif\u001B[39;00m axis \u001B[38;5;129;01mis\u001B[39;00m \u001B[38;5;129;01mnot\u001B[39;00m \u001B[38;5;28;01mNone\u001B[39;00m \u001B[38;5;129;01mand\u001B[39;00m \u001B[38;5;28mgetattr\u001B[39m(the_sum, \u001B[38;5;124m\"\u001B[39m\u001B[38;5;124mndim\u001B[39m\u001B[38;5;124m\"\u001B[39m, \u001B[38;5;28;01mFalse\u001B[39;00m):\n",
      "File \u001B[0;32m~/.local/lib/python3.12/site-packages/pandas/core/nanops.py:1701\u001B[0m, in \u001B[0;36m_ensure_numeric\u001B[0;34m(x)\u001B[0m\n\u001B[1;32m   1699\u001B[0m \u001B[38;5;28;01mif\u001B[39;00m \u001B[38;5;28misinstance\u001B[39m(x, \u001B[38;5;28mstr\u001B[39m):\n\u001B[1;32m   1700\u001B[0m     \u001B[38;5;66;03m# GH#44008, GH#36703 avoid casting e.g. strings to numeric\u001B[39;00m\n\u001B[0;32m-> 1701\u001B[0m     \u001B[38;5;28;01mraise\u001B[39;00m \u001B[38;5;167;01mTypeError\u001B[39;00m(\u001B[38;5;124mf\u001B[39m\u001B[38;5;124m\"\u001B[39m\u001B[38;5;124mCould not convert string \u001B[39m\u001B[38;5;124m'\u001B[39m\u001B[38;5;132;01m{\u001B[39;00mx\u001B[38;5;132;01m}\u001B[39;00m\u001B[38;5;124m'\u001B[39m\u001B[38;5;124m to numeric\u001B[39m\u001B[38;5;124m\"\u001B[39m)\n\u001B[1;32m   1702\u001B[0m \u001B[38;5;28;01mtry\u001B[39;00m:\n",
      "\u001B[0;31mTypeError\u001B[0m: Could not convert string 'SchlafzimmerKücheBathroomEssbereichWohnzimmerFlurEingangsbereichBadezimmerSchlafzimmer 2Gäste-WCKüche 2EssbereichBadezimmerKücheBadezimmerKitchenDining roomKitchen 2Half BathroomLaundry areaDen/OfficeDining RoomGarageDeckBack DeckSitting roomFront HallHallway BathroomLiving roomHalf BathroomHallway BathroomBack BedroomDeckOfficeEntranceBathroom - MainMaster BedroomHallway BathroomBedtoom 1Dining roomKitchenLaundry Bedroom 2 Bed 1EnsuiteBathroomBack middle bedroom Dining roomMaster BedroomLower hallway Lower front left bedroomLaundry room Master BedroomBack Middle BedroomRec room 2BathroomWet BarBasement 2Jack & Jill Bathroom Primary BedroomFront Left Bedroom  2Right Screened Porch Guest Bathroom - UpstairsBedroom - MasterBedroom 3Bedroom 1Bedroom 2Garage 2Hallway - DownstairsDining roomBathroom - Master 2Guest Bathroom - Upstairs 2DenGuest Bathroom - DownstairsDining roomBathroom - Master 2Hallway - Downstairs 2Bedroom 1Bedroom 1-2Guest Bathroom - UpstairsGuest Bathroom - Upstairs 2GarageBedroom 2Bedroom 1Bedroom 3HallwayHallway BathroomNorth West BedroomBasement Bathroom Laundry areaSouthwest BedroomMain Floor BathroomMain Floor Half BathroomLiving RoomSitting RoomPrimary BedroomBack Right BedroomHall BathroomDining RoomHallwayBack Left BedroomHalf BathroomDining roomLiving RoomOwners BedroomFront Right BedroomFront Left BedroomLaundry RoomBack Right Bedroom Living roomSW BedroomLaundry2nd Floor Hall BathroomEntrywayDining room 2Master Bedroom 2Exterior Back 3Hallway Bathroom 2Exterior BackExterior Front 2Hallway BathroomFront RoomHallwayBack Corner BedroomDining roomJack & Jill BathroomBack Corner BedroomFront Corner Bedroom 2Back Corner Bedroom 2Family RoomOwners BathroomLaundryOwners BedroomHallwaySunroomExterior Back 2FoyerNookBack left bedroom2nd fl hall bathroomDining RoomExterior Right 22nd fl left bedroom  2EntrywayLaundry AreaHallway BathroomBedroom 1Front Corner BedroomSouth  bedroomHallway 3DenHallwayParking Area 2LaundryDeckPrincipal / Owners SuitePrincipal Bath SuiteBedroom #2Garagefront porch.PorchBsmt StairwellPatiofront porch.deck.Lower Unit Back Right BedroomLower Unit Front Left BedroomUpper Unit Back Left BedroomLower Unit Back Left BedroomPorchFront PorchFront PorchFoyerEast Unit Guest BathroomEntranceDining roomKitchenLaundry areaLaundry areaBedroom 16BedroomHallway BathroomBedroom 2BalkonDining roomKitchenFamily RoomBasement #5 Dining roomFirst Floor #1 DiningSecond Floor #4 Living roomFirst Floor #2 HallwaySecond Floor #4 BathroomSecond Floor #4 dining roomKitchen 2deck.front porch.Bathroom, Upper HallwayPorchSouth Patio porchHallwayBalconyPorchScreen PorchRear left bathroomRear porxhDining roomMiddle BedroomMaster Bedroom 2PatioFront Porch  2Greenhouse 3Front BalconyPool house 3Hall bedroom - first floor NE cornerBalcony Pool house 3Primary BedroomLiving RoomBasement 2Hall BathroomDining roomRight BedroomBack Left BedroomHalf BathroomFront bedroomStairwayBathroomOfficeHallwayLaundryKitchenFamily roomBedroomMaster BedroomFamily Living RoomHallway-Main Floor 2Back Interior BedroomBack Left BedroomFoyerDining RoomLaundry roomBathroom 1Bedroom 2Half Bathroom ExteriorHalf Bathroom 2GarageFront left bedroomFront right bedroomMaster BedroomBedroom 1Master BedroomBedroom 2CellarSunroomBack entryHalf BathroomBack Corner BedroomMiddle BedroomBedroomFamily RoomMaster BedroomSunroom OfficePorchFront BedroomHalf BathroomStudy/DenUpstairs Hall BathroomBathroomBasement 3Laundry RoomOwners Bathroom 3Dinning RoomPantryBathroomMaster Bedroom 3GymDining roomLaundryGuest BathroomBedroom BPool roomBedroom2EntranceDining roomHallway BathroomMaster BedroomMaster BathroomLaundryMaster Toilet RoomMaster Bedroom Continued Mud Room Laundry Room FoyerHallway AbstellraumKücheCommon Area BadezimmerGarageArbeitszimmerHWRSchlafzimmer 2Badezimmer 2AnkleidezimmerMaster BathMaster BedroomMaster Bedroom 2HallwayBathroom #1HallwayBedroomKitchenMaster BathroomOffice 2OfficeGarageFront Left BedroomDownstairs Front BathroomFront Left Bedroom Entrance Butler PantryMaster Bedroom 2Laundry AreaKitchenGuest BedroomGuest BathroomSecond Floor Hallway 2Hallway BathroomFront Porch 2MudroomEntry 2Master Bathroom 2Garage 3OfficeLiving room 2Downstairs bedroomFormal livingLaundry 2Mudroom 2GarageBadezimmerLaundryHallwayMaster Bedroom 2EntryLeft WingBalkonEntryBedroom 1Bedroom 1 ClosetFlur 2KitchenHobbyraumEG Flur 1EG ZimmerOG Flur 2OG Zimmer 3OG BadKitchenBedroom 2FoyerDining roomBedroom TwoKitchen 3BathroomBedroomKücheFoyerUp bathroomLaundryDining roomFromt office Garage hallwayRight front bedroom Change roomMaster BedroomHallway BathroomFoyerFamily Room 3Dining roomFoyerMiddle BedroomOfficeBathroom 1Breakfast NookLaundry roomMaster ClosetBathroom 2Living Room-2Sitting Room-2S HallS Hall 2Landing-2HallBR VanityBathroomMaster BedroomFamily room 2Living roomKitchenOfficeKitchen 5PamtryDining roomFoyer w/ hallParlorMaster HallHallway 3FoyerParlorMaster OfficDaughters w/ 2 closetsLiving RoomDining roomBathroom, Master 2BasementBasement 2Exterior 14First Floor 5Second Floor 2Second Floor 3Second Floor 5Second Floor 6Second Floor 7OfficeFamily Room 2Bathroom 2Dining roomHallway 2Bedroom 1Hallway BathroomKitchenMaster BedroomLaundry areaMaster BathroomBedroom 3 2First floor hall bathroomFront right bedroomStairsHalf BathroomLiving roomHalf BathroomLaundryHallway BathroomBath Room A 4Room A 6Living roomLiving room 2KitchenOfficeBathroomKitchenHallway bathroomRoom ADressing room ABathroom A 2Utility roomBathroom B 3Rear hallRoom CRoom B 2Living roomBedroom 2BedroomEntrance 2BathroomEntranceBedroom 2Bedroom 3Entry 2Living roomKitchen dining 2Living room 2Master BathFront R Bed 2Front R BedEntryHallway 2Bedroom 2Bedroom 2Dining roomSitting RoomMaster BedroomUpstairs Hall BathroomMaster ClosetBack Center BedroomBack Left BedroomFamily RoomFirst floor master bedroom First floor half bathroom Dining roomFront right bedroomMaster BathroomBasement BathroomMaster Bathroom 2Basement Guest Bedroom1Basement Guest Bedroom2 ClosetStaircaseEntranceKitchenMaster BedroomGuest Bedroom3Bedroom 1BathroomDinning room BedroomEntranceHallwayFamily roomHalf BathroomHallway BathroomLaundryMaster BedroomStudyFamily RoomMaster BedroomDining roomLaundry areaUpstairs hallway bathroomUpstairs left bedroomSide entryMaster BedroomBathroomBathroom (2)Playroom (2)Bedroom 2Bedroom 1Hallway 2Half BathroomHallway 2 (1)Kitchen Master Bedroom 2Master BedroomMaster BathroomBedroom 2Sitting roomSitting roomGym EntranceBathroomGirls RoomDining roomLaundryMaster BedroomMaster ClosetMaster BathroomBasement 5GarageHallway BathroomHallwayFront Right BedroomFront Left BedroomBack entryBack hallwayBathroomLiving roomKitchenEntranceHallwayBreakfast NookKitchenLaundry roomFoyerBedroom 2GarageBasement 2Basement 3Basement 4Dining RoomBathroom - HalfKitchen 2Bedroom - Left FrontBedroom - Master 2Fireplace area GarageBedroomKitchenClosetBedroom 3EntranceEzterior front of house 3Hallway 2Flur 4BalkonWohnzimmerFlurSchlafzimmerLiving roomEntry wayEntry way 2Upstairs hallway Bedroom 3BathroomBedroomGarage HallwayMaster BathroomKücheBadezimmerFlur 2BüroLaundry Living room 3Living room 4Bedroom 2Master Bathroom 3Bathroom 2Master Bathroom two  2BadezimmerEntryMaster BedroomLaundryBedroomHallwaylower kitchenette.lower right bedroom.master closet.master bedroom.foyer.garage.Main bathroomupper loft. 2FoyerHalf BathroomLaundry roomBedroom 2StudySchlafzimmer 6KitchenBasement 2KitchenLiving RoomMaster BedroomHalf BathroomBathroomBathroom BedroomStudyLaundry Room Storage roomHall to KitchenHallway BathroomBedroom 3Bedroom 2Bathroom Jack Jill Bathroom Jack Jill  3BathroomHallwayExterior Front 3Back entryGuest BathroomFront Middle BedroomEntrywayBedroom 12nd Floor Back Middle BedroomNook  2Family room 3Kitchen 3Hall 2Hall 3Hall 4Loft 2LoftLaundry 2Kid 2 Bedroom  2Kid 2 Bedroom Kid 3 room jack and jill Master BedroomMaster Bedroom 2Master Bedroom 3Master Bedroom 4Master BathroomMaster Bathroom 3eaCovered PorchGarage3Living roomMaster BedroomRoom 120 entry Room 123 entry Stairway Landing HallwayRoom 225Half bathroom Front patio Jack and Jill bathroom  2Upper deck Master BedroomBedroom 2BathroomGarageLaundryBathroomEnsuiteBank LobbyOffic 2Front OfficeOffice 6Back office 10Texas Lobby 2Texas LunchroomBars Common Are 2Bars Treatment 2Bars Treatment 1Quickview office 3Quickview office 43939 Lobby 7GarageBedroom 3Master BedroomBathroom 3GarageBasement BathroomBasementHot tub roomHalf BathroomLiving roomHallway BathroomLiving roomKitchenGarageBedroomBedroomMaster BathroomSitting room Sitting room Sitting roomPowder roomHallway BathroomWater closetPowder room Hallway 2Bathroom 2Living roomHallway BathroomHallway BathroomFamily roomFamily roomFamily roomBedroomBedroom EntryGuest Bedroom 2Master ClosetHallway 2EntryBathroom 2Living roomBedroomBedroomDenGuest BedroomSmall LivingEntryMaster Bedroom 2Master ClosetLiving roomMaster Closet 2HallHall 2Hall 3Office 2Office 3Office 4Office 5Storage roomRest RoomLobby/Hall 2Lobby/Hall 3Office 1Storage roomOffice 2Office 3KitchenUtility roomRest RoomFoyerMaster Bathroom 2Master BedroomLarge RoomBathroomMaster BathroomMaster BedroomHallwayKitchenLiving roomMaster Bedroom 2Master Bedroom 3Dining roomDining room 2Bathroom 2 COLRexall Cooler Area 2Rexall Cooler Area 4Basement BathroomDining roomMaster BedroomBedroom 2Bedroom 3Living roomOfficeFamily roomBedroom 2Breakfast with HallOfficeDining roomHallway 3Laundry RoomBathroomHallway 4Bathroom 2Bedroom 3Bathroom 3Theater room 2Family roomFront foyer 3OfficePowder RoomMaster Bedroom 2En-suite BathButlers PantryHalf Bath (2nd Floor)Principal Walk In ClosetLaundry RoomStore 2Dining roomFront Middle BedroomHallway 2Basement  2Basement 3Main floorMain floor 7Main floor 8Second floor 3BathroomMaster BedroomMaster Bedroom 2Laundry closet Living area 2Master ClosetGarageHallwayGarage 2EntranceWashroomDining - Rec Room 3Basement 4Living roomFoyerOffice Fire place roomKitchenBathroomBasement entrance HallwayMaster Bedroom 3Living roomBedroom closetBunk Room Guest BedroomFoyerHallDining roomMaster BathroomLiving RoomOfficeOfficeFirst Floor BathroomFirst Floor Laundry Room3rd Floor BathroomBedroom (2) 305 denBathroom hallwayBedroom 1 BathroomGarageHallway 3Formal living room Dining room (2)HallwayStorage room 3Office 4277 Office 2281 Walkout277 Walkout279-3279 Bath281 Bath279-2Coffee bar bathEnsuite BathroomFamily roomBedroomWalk-in ClosetBathroomLaundryFoyerBedroomDining roomBedroom315 master bedroom315 master closetLivingroom/ dining room314 Master Bedroom 314 master bedroom#229 - EntryBathroomLiving room 2Craft roomStorage roomBathroom 1Bedroom 1Master BathroomBathroomEntryway/FoyerBathroomMaster BathBack BedLaundryBedroom 3Bathroom, BasementKitchen 2Bedroom, Upper NEBedroom, MasterSE bedroomBedroom 2Living roomLiving room closet2nd Floor Dining RoomMaster BathroomEntry 2Dining roomBedroomKitchen 4vanity areaBathroomFlur 7FlurBadezimmerFirst Floor 2First Floor 4First Floor 6First Floor 5First Floor 7First Floor 9Second Floor 3Second Floor 8StairwayFlur 2SchlafzimmerDining roomGuest Bedroom 2129 BathroomKitchen 2Bedroom 1Womens Bathroom 3BedroomBedroom rear leftBedroomBed 2Master BedroomThird BedroomEntrance WayFull Bathroom 2Second BedroomPrimary Bedroom Closet 112101209 12101209a1206BGarageBathroom 1Garage 2Bathroom 1-2Jack and Jill Bathroom 3Living roomKitchen 3Bedroom 3Kitchen 2Salle à dîner  2Front Right Bedroom17 Exam9 Hall 210 Exam6 ExamBedroom 1Master BedroomBadezimmer 2Garage HallToilet roomHallwayFront bathOffice hallwayRear office large rear room 2Half BathroomGarage Bonus roomEntrance StarsBedroomFamily RoomLiving RoomFirst Floor HallwayHallwayHallwayKitchenFlurStairwayWomens bathBreak roomStorage roomWaiting Room (Offset)Hall 2Hall bathroomKitchenExterior RearBedroom 2Living Roomchambre 2Bedroom 2Right BedMastee bath 3GarageWohnzimmerFlur 3Mein ZimmeBüroKücheGäste-WCKellerzugangEingang HausBedroom 2Laundry AreaLiving RoomPrincipal / Owners SuiteLiving RoomLaundryBathroom - HalfBathroom - MainBedroom - MasterSchlafzimmer 3Flur 1KücheWohnzimmerKücheFlur 1DieleKind 2Wohnen 2BathroomWohnzimmer 2BathroomMaster BedroomDenHallwayFront Right BedroomAttached GarageEntrywayLiving RoomDining RoomBreakfast NookFront Middle BedroomBalkonGame room storage closet BedroomtoiletShowerGymDining roomHallwayGaragetheater kitchenShowerHalf BathroomFoyer 3BathroomPrimary Bedroom ClosetLiving RoomFamily roomLiving roomDining roomMaster BathroomDining RoomGarageHall Bathroom2nd Floor Hall BathroomRec room 2Hallway 2Hallway 3Hallway 4BathroomBedroom 2LibraryFamily RoomFront Right BedroomLaundry roomElavator hall  11Elavator hall  13Elavator hall  17Elavator hall  22BarKitchen 4Hall AHallwayHallway 5Hallway 4Hallway 2Room 106Room 108Gym Hallway 113/125 Hallway Room 125Room 112Hallway 113/117Room 115Hallway 117Room 116Hallway 117/119Kitchen/Dining-2Master BedroomBedroom2Bedroom1Bedroom 1Bedroom 2Bathroom 2Master Bedroom 2Living RoomLower bedroom 2Bathroom 3Living roomFoyerFoyer 2Bedroom 1Master BathroomEntranceBasement 1Rec roomFamily RoomRec room 5Basement EntryGarageGuest BedroomGarage EntryMaster Bedroom 2Rec room 2Main room  2Hallway 2Master BedroomFront Left BedroomHallway BathroomPlayroomBasementOwners BathroomRoom 2Master BedroomHallHall 2Master HallMaster BedroomMaster Bedroom 2Zimmer IBedroom 4' to numeric",
      "\nThe above exception was the direct cause of the following exception:\n",
      "\u001B[0;31mTypeError\u001B[0m                                 Traceback (most recent call last)",
      "Cell \u001B[0;32mIn[5], line 1\u001B[0m\n\u001B[0;32m----> 1\u001B[0m plot_paths \u001B[38;5;241m=\u001B[39m \u001B[43mplot_gen\u001B[49m\u001B[38;5;241;43m.\u001B[39;49m\u001B[43mdraw_plots\u001B[49m\u001B[43m(\u001B[49m\u001B[38;5;124;43m'\u001B[39;49m\u001B[38;5;124;43mdata/deviations.json\u001B[39;49m\u001B[38;5;124;43m'\u001B[39;49m\u001B[43m)\u001B[49m\n",
      "File \u001B[0;32m~/PycharmProjects/room_vs_corners/plot_generator.py:114\u001B[0m, in \u001B[0;36mPlotGenerator.draw_plots\u001B[0;34m(self, json_file)\u001B[0m\n\u001B[1;32m    112\u001B[0m plots \u001B[38;5;241m=\u001B[39m {}\n\u001B[1;32m    113\u001B[0m plots[\u001B[38;5;124m'\u001B[39m\u001B[38;5;124mcorner_comparison\u001B[39m\u001B[38;5;124m'\u001B[39m] \u001B[38;5;241m=\u001B[39m \u001B[38;5;28mself\u001B[39m\u001B[38;5;241m.\u001B[39mplot_gt_vs_rb_corners(df)\n\u001B[0;32m--> 114\u001B[0m plots[\u001B[38;5;124m'\u001B[39m\u001B[38;5;124mdeviation_analysis\u001B[39m\u001B[38;5;124m'\u001B[39m] \u001B[38;5;241m=\u001B[39m \u001B[38;5;28;43mself\u001B[39;49m\u001B[38;5;241;43m.\u001B[39;49m\u001B[43mplot_error_bars\u001B[49m\u001B[43m(\u001B[49m\u001B[43mdf\u001B[49m\u001B[43m)\u001B[49m\n\u001B[1;32m    115\u001B[0m plots[\u001B[38;5;124m'\u001B[39m\u001B[38;5;124mfloor_vs_ceiling\u001B[39m\u001B[38;5;124m'\u001B[39m] \u001B[38;5;241m=\u001B[39m \u001B[38;5;28mself\u001B[39m\u001B[38;5;241m.\u001B[39mplot_floor_vs_ceiling(df)\n\u001B[1;32m    116\u001B[0m plots[\u001B[38;5;124m'\u001B[39m\u001B[38;5;124mdeviation_boxplot\u001B[39m\u001B[38;5;124m'\u001B[39m] \u001B[38;5;241m=\u001B[39m \u001B[38;5;28mself\u001B[39m\u001B[38;5;241m.\u001B[39mplot_deviation_boxplot(df)\n",
      "File \u001B[0;32m~/PycharmProjects/room_vs_corners/plot_generator.py:140\u001B[0m, in \u001B[0;36mPlotGenerator.plot_error_bars\u001B[0;34m(self, df)\u001B[0m\n\u001B[1;32m    138\u001B[0m \u001B[38;5;28;01mdef\u001B[39;00m \u001B[38;5;21mplot_error_bars\u001B[39m(\u001B[38;5;28mself\u001B[39m, df):\n\u001B[1;32m    139\u001B[0m     plt\u001B[38;5;241m.\u001B[39mfigure()\n\u001B[0;32m--> 140\u001B[0m     grouped_df \u001B[38;5;241m=\u001B[39m \u001B[43mdf\u001B[49m\u001B[38;5;241;43m.\u001B[39;49m\u001B[43mgroupby\u001B[49m\u001B[43m(\u001B[49m\u001B[38;5;124;43m'\u001B[39;49m\u001B[38;5;124;43mcorner_category\u001B[39;49m\u001B[38;5;124;43m'\u001B[39;49m\u001B[43m)\u001B[49m\u001B[38;5;241;43m.\u001B[39;49m\u001B[43mmean\u001B[49m\u001B[43m(\u001B[49m\u001B[43m)\u001B[49m\n\u001B[1;32m    141\u001B[0m     plt\u001B[38;5;241m.\u001B[39merrorbar(grouped_df\u001B[38;5;241m.\u001B[39mindex, grouped_df[\u001B[38;5;124m'\u001B[39m\u001B[38;5;124mmean\u001B[39m\u001B[38;5;124m'\u001B[39m],\n\u001B[1;32m    142\u001B[0m                  yerr\u001B[38;5;241m=\u001B[39m[grouped_df[\u001B[38;5;124m'\u001B[39m\u001B[38;5;124mmean\u001B[39m\u001B[38;5;124m'\u001B[39m] \u001B[38;5;241m-\u001B[39m grouped_df[\u001B[38;5;124m'\u001B[39m\u001B[38;5;124mmin\u001B[39m\u001B[38;5;124m'\u001B[39m], grouped_df[\u001B[38;5;124m'\u001B[39m\u001B[38;5;124mmax\u001B[39m\u001B[38;5;124m'\u001B[39m] \u001B[38;5;241m-\u001B[39m grouped_df[\u001B[38;5;124m'\u001B[39m\u001B[38;5;124mmean\u001B[39m\u001B[38;5;124m'\u001B[39m]], fmt\u001B[38;5;241m=\u001B[39m\u001B[38;5;124m'\u001B[39m\u001B[38;5;124mo\u001B[39m\u001B[38;5;124m'\u001B[39m, capsize\u001B[38;5;241m=\u001B[39m\u001B[38;5;241m5\u001B[39m)\n\u001B[1;32m    143\u001B[0m     plt\u001B[38;5;241m.\u001B[39mtitle(\u001B[38;5;124m'\u001B[39m\u001B[38;5;124mGrouped: Mean Deviation with Min/Max Error Bars\u001B[39m\u001B[38;5;124m'\u001B[39m)\n",
      "File \u001B[0;32m~/.local/lib/python3.12/site-packages/pandas/core/groupby/groupby.py:2452\u001B[0m, in \u001B[0;36mGroupBy.mean\u001B[0;34m(self, numeric_only, engine, engine_kwargs)\u001B[0m\n\u001B[1;32m   2445\u001B[0m     \u001B[38;5;28;01mreturn\u001B[39;00m \u001B[38;5;28mself\u001B[39m\u001B[38;5;241m.\u001B[39m_numba_agg_general(\n\u001B[1;32m   2446\u001B[0m         grouped_mean,\n\u001B[1;32m   2447\u001B[0m         executor\u001B[38;5;241m.\u001B[39mfloat_dtype_mapping,\n\u001B[1;32m   2448\u001B[0m         engine_kwargs,\n\u001B[1;32m   2449\u001B[0m         min_periods\u001B[38;5;241m=\u001B[39m\u001B[38;5;241m0\u001B[39m,\n\u001B[1;32m   2450\u001B[0m     )\n\u001B[1;32m   2451\u001B[0m \u001B[38;5;28;01melse\u001B[39;00m:\n\u001B[0;32m-> 2452\u001B[0m     result \u001B[38;5;241m=\u001B[39m \u001B[38;5;28;43mself\u001B[39;49m\u001B[38;5;241;43m.\u001B[39;49m\u001B[43m_cython_agg_general\u001B[49m\u001B[43m(\u001B[49m\n\u001B[1;32m   2453\u001B[0m \u001B[43m        \u001B[49m\u001B[38;5;124;43m\"\u001B[39;49m\u001B[38;5;124;43mmean\u001B[39;49m\u001B[38;5;124;43m\"\u001B[39;49m\u001B[43m,\u001B[49m\n\u001B[1;32m   2454\u001B[0m \u001B[43m        \u001B[49m\u001B[43malt\u001B[49m\u001B[38;5;241;43m=\u001B[39;49m\u001B[38;5;28;43;01mlambda\u001B[39;49;00m\u001B[43m \u001B[49m\u001B[43mx\u001B[49m\u001B[43m:\u001B[49m\u001B[43m \u001B[49m\u001B[43mSeries\u001B[49m\u001B[43m(\u001B[49m\u001B[43mx\u001B[49m\u001B[43m,\u001B[49m\u001B[43m \u001B[49m\u001B[43mcopy\u001B[49m\u001B[38;5;241;43m=\u001B[39;49m\u001B[38;5;28;43;01mFalse\u001B[39;49;00m\u001B[43m)\u001B[49m\u001B[38;5;241;43m.\u001B[39;49m\u001B[43mmean\u001B[49m\u001B[43m(\u001B[49m\u001B[43mnumeric_only\u001B[49m\u001B[38;5;241;43m=\u001B[39;49m\u001B[43mnumeric_only\u001B[49m\u001B[43m)\u001B[49m\u001B[43m,\u001B[49m\n\u001B[1;32m   2455\u001B[0m \u001B[43m        \u001B[49m\u001B[43mnumeric_only\u001B[49m\u001B[38;5;241;43m=\u001B[39;49m\u001B[43mnumeric_only\u001B[49m\u001B[43m,\u001B[49m\n\u001B[1;32m   2456\u001B[0m \u001B[43m    \u001B[49m\u001B[43m)\u001B[49m\n\u001B[1;32m   2457\u001B[0m     \u001B[38;5;28;01mreturn\u001B[39;00m result\u001B[38;5;241m.\u001B[39m__finalize__(\u001B[38;5;28mself\u001B[39m\u001B[38;5;241m.\u001B[39mobj, method\u001B[38;5;241m=\u001B[39m\u001B[38;5;124m\"\u001B[39m\u001B[38;5;124mgroupby\u001B[39m\u001B[38;5;124m\"\u001B[39m)\n",
      "File \u001B[0;32m~/.local/lib/python3.12/site-packages/pandas/core/groupby/groupby.py:1998\u001B[0m, in \u001B[0;36mGroupBy._cython_agg_general\u001B[0;34m(self, how, alt, numeric_only, min_count, **kwargs)\u001B[0m\n\u001B[1;32m   1995\u001B[0m     result \u001B[38;5;241m=\u001B[39m \u001B[38;5;28mself\u001B[39m\u001B[38;5;241m.\u001B[39m_agg_py_fallback(how, values, ndim\u001B[38;5;241m=\u001B[39mdata\u001B[38;5;241m.\u001B[39mndim, alt\u001B[38;5;241m=\u001B[39malt)\n\u001B[1;32m   1996\u001B[0m     \u001B[38;5;28;01mreturn\u001B[39;00m result\n\u001B[0;32m-> 1998\u001B[0m new_mgr \u001B[38;5;241m=\u001B[39m \u001B[43mdata\u001B[49m\u001B[38;5;241;43m.\u001B[39;49m\u001B[43mgrouped_reduce\u001B[49m\u001B[43m(\u001B[49m\u001B[43marray_func\u001B[49m\u001B[43m)\u001B[49m\n\u001B[1;32m   1999\u001B[0m res \u001B[38;5;241m=\u001B[39m \u001B[38;5;28mself\u001B[39m\u001B[38;5;241m.\u001B[39m_wrap_agged_manager(new_mgr)\n\u001B[1;32m   2000\u001B[0m \u001B[38;5;28;01mif\u001B[39;00m how \u001B[38;5;129;01min\u001B[39;00m [\u001B[38;5;124m\"\u001B[39m\u001B[38;5;124midxmin\u001B[39m\u001B[38;5;124m\"\u001B[39m, \u001B[38;5;124m\"\u001B[39m\u001B[38;5;124midxmax\u001B[39m\u001B[38;5;124m\"\u001B[39m]:\n",
      "File \u001B[0;32m~/.local/lib/python3.12/site-packages/pandas/core/internals/managers.py:1469\u001B[0m, in \u001B[0;36mBlockManager.grouped_reduce\u001B[0;34m(self, func)\u001B[0m\n\u001B[1;32m   1465\u001B[0m \u001B[38;5;28;01mif\u001B[39;00m blk\u001B[38;5;241m.\u001B[39mis_object:\n\u001B[1;32m   1466\u001B[0m     \u001B[38;5;66;03m# split on object-dtype blocks bc some columns may raise\u001B[39;00m\n\u001B[1;32m   1467\u001B[0m     \u001B[38;5;66;03m#  while others do not.\u001B[39;00m\n\u001B[1;32m   1468\u001B[0m     \u001B[38;5;28;01mfor\u001B[39;00m sb \u001B[38;5;129;01min\u001B[39;00m blk\u001B[38;5;241m.\u001B[39m_split():\n\u001B[0;32m-> 1469\u001B[0m         applied \u001B[38;5;241m=\u001B[39m \u001B[43msb\u001B[49m\u001B[38;5;241;43m.\u001B[39;49m\u001B[43mapply\u001B[49m\u001B[43m(\u001B[49m\u001B[43mfunc\u001B[49m\u001B[43m)\u001B[49m\n\u001B[1;32m   1470\u001B[0m         result_blocks \u001B[38;5;241m=\u001B[39m extend_blocks(applied, result_blocks)\n\u001B[1;32m   1471\u001B[0m \u001B[38;5;28;01melse\u001B[39;00m:\n",
      "File \u001B[0;32m~/.local/lib/python3.12/site-packages/pandas/core/internals/blocks.py:393\u001B[0m, in \u001B[0;36mBlock.apply\u001B[0;34m(self, func, **kwargs)\u001B[0m\n\u001B[1;32m    387\u001B[0m \u001B[38;5;129m@final\u001B[39m\n\u001B[1;32m    388\u001B[0m \u001B[38;5;28;01mdef\u001B[39;00m \u001B[38;5;21mapply\u001B[39m(\u001B[38;5;28mself\u001B[39m, func, \u001B[38;5;241m*\u001B[39m\u001B[38;5;241m*\u001B[39mkwargs) \u001B[38;5;241m-\u001B[39m\u001B[38;5;241m>\u001B[39m \u001B[38;5;28mlist\u001B[39m[Block]:\n\u001B[1;32m    389\u001B[0m \u001B[38;5;250m    \u001B[39m\u001B[38;5;124;03m\"\"\"\u001B[39;00m\n\u001B[1;32m    390\u001B[0m \u001B[38;5;124;03m    apply the function to my values; return a block if we are not\u001B[39;00m\n\u001B[1;32m    391\u001B[0m \u001B[38;5;124;03m    one\u001B[39;00m\n\u001B[1;32m    392\u001B[0m \u001B[38;5;124;03m    \"\"\"\u001B[39;00m\n\u001B[0;32m--> 393\u001B[0m     result \u001B[38;5;241m=\u001B[39m \u001B[43mfunc\u001B[49m\u001B[43m(\u001B[49m\u001B[38;5;28;43mself\u001B[39;49m\u001B[38;5;241;43m.\u001B[39;49m\u001B[43mvalues\u001B[49m\u001B[43m,\u001B[49m\u001B[43m \u001B[49m\u001B[38;5;241;43m*\u001B[39;49m\u001B[38;5;241;43m*\u001B[39;49m\u001B[43mkwargs\u001B[49m\u001B[43m)\u001B[49m\n\u001B[1;32m    395\u001B[0m     result \u001B[38;5;241m=\u001B[39m maybe_coerce_values(result)\n\u001B[1;32m    396\u001B[0m     \u001B[38;5;28;01mreturn\u001B[39;00m \u001B[38;5;28mself\u001B[39m\u001B[38;5;241m.\u001B[39m_split_op_result(result)\n",
      "File \u001B[0;32m~/.local/lib/python3.12/site-packages/pandas/core/groupby/groupby.py:1995\u001B[0m, in \u001B[0;36mGroupBy._cython_agg_general.<locals>.array_func\u001B[0;34m(values)\u001B[0m\n\u001B[1;32m   1992\u001B[0m     \u001B[38;5;28;01mreturn\u001B[39;00m result\n\u001B[1;32m   1994\u001B[0m \u001B[38;5;28;01massert\u001B[39;00m alt \u001B[38;5;129;01mis\u001B[39;00m \u001B[38;5;129;01mnot\u001B[39;00m \u001B[38;5;28;01mNone\u001B[39;00m\n\u001B[0;32m-> 1995\u001B[0m result \u001B[38;5;241m=\u001B[39m \u001B[38;5;28;43mself\u001B[39;49m\u001B[38;5;241;43m.\u001B[39;49m\u001B[43m_agg_py_fallback\u001B[49m\u001B[43m(\u001B[49m\u001B[43mhow\u001B[49m\u001B[43m,\u001B[49m\u001B[43m \u001B[49m\u001B[43mvalues\u001B[49m\u001B[43m,\u001B[49m\u001B[43m \u001B[49m\u001B[43mndim\u001B[49m\u001B[38;5;241;43m=\u001B[39;49m\u001B[43mdata\u001B[49m\u001B[38;5;241;43m.\u001B[39;49m\u001B[43mndim\u001B[49m\u001B[43m,\u001B[49m\u001B[43m \u001B[49m\u001B[43malt\u001B[49m\u001B[38;5;241;43m=\u001B[39;49m\u001B[43malt\u001B[49m\u001B[43m)\u001B[49m\n\u001B[1;32m   1996\u001B[0m \u001B[38;5;28;01mreturn\u001B[39;00m result\n",
      "File \u001B[0;32m~/.local/lib/python3.12/site-packages/pandas/core/groupby/groupby.py:1946\u001B[0m, in \u001B[0;36mGroupBy._agg_py_fallback\u001B[0;34m(self, how, values, ndim, alt)\u001B[0m\n\u001B[1;32m   1944\u001B[0m     msg \u001B[38;5;241m=\u001B[39m \u001B[38;5;124mf\u001B[39m\u001B[38;5;124m\"\u001B[39m\u001B[38;5;124magg function failed [how->\u001B[39m\u001B[38;5;132;01m{\u001B[39;00mhow\u001B[38;5;132;01m}\u001B[39;00m\u001B[38;5;124m,dtype->\u001B[39m\u001B[38;5;132;01m{\u001B[39;00mser\u001B[38;5;241m.\u001B[39mdtype\u001B[38;5;132;01m}\u001B[39;00m\u001B[38;5;124m]\u001B[39m\u001B[38;5;124m\"\u001B[39m\n\u001B[1;32m   1945\u001B[0m     \u001B[38;5;66;03m# preserve the kind of exception that raised\u001B[39;00m\n\u001B[0;32m-> 1946\u001B[0m     \u001B[38;5;28;01mraise\u001B[39;00m \u001B[38;5;28mtype\u001B[39m(err)(msg) \u001B[38;5;28;01mfrom\u001B[39;00m \u001B[38;5;21;01merr\u001B[39;00m\n\u001B[1;32m   1948\u001B[0m \u001B[38;5;28;01mif\u001B[39;00m ser\u001B[38;5;241m.\u001B[39mdtype \u001B[38;5;241m==\u001B[39m \u001B[38;5;28mobject\u001B[39m:\n\u001B[1;32m   1949\u001B[0m     res_values \u001B[38;5;241m=\u001B[39m res_values\u001B[38;5;241m.\u001B[39mastype(\u001B[38;5;28mobject\u001B[39m, copy\u001B[38;5;241m=\u001B[39m\u001B[38;5;28;01mFalse\u001B[39;00m)\n",
      "\u001B[0;31mTypeError\u001B[0m: agg function failed [how->mean,dtype->object]"
     ]
    },
    {
     "data": {
      "text/plain": [
       "<Figure size 640x480 with 0 Axes>"
      ]
     },
     "metadata": {},
     "output_type": "display_data"
    },
    {
     "data": {
      "text/plain": [
       "<Figure size 640x480 with 0 Axes>"
      ]
     },
     "metadata": {},
     "output_type": "display_data"
    }
   ],
   "execution_count": 5
  },
  {
   "metadata": {},
   "cell_type": "markdown",
   "source": "Display plots paths in notebok",
   "id": "ba3db557d0d075fb"
  },
  {
   "metadata": {},
   "cell_type": "code",
   "source": "plot_paths",
   "id": "7f6be90e685ee79e",
   "outputs": [],
   "execution_count": null
  },
  {
   "metadata": {},
   "cell_type": "code",
   "source": "!python -m unittest discover -s test_plot_generator",
   "id": "29146767a03d3896",
   "outputs": [],
   "execution_count": null
  },
  {
   "metadata": {},
   "cell_type": "markdown",
   "source": "!pytest -v",
   "id": "5276b7ed73e42429"
  }
 ],
 "metadata": {
  "kernelspec": {
   "display_name": "Python 3",
   "language": "python",
   "name": "python3"
  },
  "language_info": {
   "codemirror_mode": {
    "name": "ipython",
    "version": 2
   },
   "file_extension": ".py",
   "mimetype": "text/x-python",
   "name": "python",
   "nbconvert_exporter": "python",
   "pygments_lexer": "ipython2",
   "version": "2.7.6"
  }
 },
 "nbformat": 4,
 "nbformat_minor": 5
}
